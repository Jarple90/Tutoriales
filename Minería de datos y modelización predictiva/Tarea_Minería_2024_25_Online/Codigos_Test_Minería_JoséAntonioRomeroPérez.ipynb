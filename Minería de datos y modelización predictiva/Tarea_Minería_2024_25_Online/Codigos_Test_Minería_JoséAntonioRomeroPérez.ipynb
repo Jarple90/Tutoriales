{
 "cells": [
  {
   "cell_type": "code",
   "execution_count": null,
   "metadata": {},
   "outputs": [
    {
     "name": "stdout",
     "output_type": "stream",
     "text": [
      "La mediana de 'lat' es la opción a: 47.5745\n"
     ]
    }
   ],
   "source": [
    "#Pregunta 10\n",
    "import pandas as pd\n",
    "\n",
    "# Se carga el archivo Excel que se llama \"VentaViviendas\"\n",
    "df = pd.read_excel('VentaViviendas.xlsx')  # Asegúrate de colocar el archivo en el mismo directorio o proporcionar la ruta completa.\n",
    "\n",
    "# Se calcula la mediana de la columna \"lat\"\n",
    "mediana_lat = df['lat'].median()\n",
    "print(f\"La mediana de 'lat' es la opción a: {mediana_lat}\")  #El resultado de realizar la Mediana al conjunto de datos es 47.5745 a la pregunta 10\n"
   ]
  },
  {
   "cell_type": "code",
   "execution_count": null,
   "metadata": {},
   "outputs": [
    {
     "name": "stdout",
     "output_type": "stream",
     "text": [
      "El número de valores únicos en 'condition' es la respuesta b: 5\n"
     ]
    }
   ],
   "source": [
    "#Pregunta 11\n",
    "valores_unicos = df['condition'].nunique()\n",
    "print(f\"El número de valores únicos en 'condition' es la respuesta b: {valores_unicos}\") #Los valores únicos en condition es 5 a la pregunta 11\n"
   ]
  },
  {
   "cell_type": "code",
   "execution_count": null,
   "metadata": {},
   "outputs": [
    {
     "name": "stdout",
     "output_type": "stream",
     "text": [
      "La cantidad de instancias que pertenecen a la categoría 0 de 'waterfront' es la respuesta a: 4852\n"
     ]
    }
   ],
   "source": [
    "#Pregunta 12\n",
    "cantidad_categoria_0 = df[df['waterfront'] == 0].shape[0]\n",
    "print(f\"La cantidad de instancias que pertenecen a la categoría 0 de 'waterfront' es la respuesta a: {cantidad_categoria_0}\") #La respuesta 12 es 4852 \n"
   ]
  },
  {
   "cell_type": "code",
   "execution_count": null,
   "metadata": {},
   "outputs": [
    {
     "name": "stdout",
     "output_type": "stream",
     "text": [
      "El porcentaje de filas faltantes en 'waterfront' es la pregunta a: 0.00%\n"
     ]
    }
   ],
   "source": [
    "#Pregunta 13\n",
    "# Calcula el porcentaje de valores faltantes en la columna 'waterfront'\n",
    "porcentaje_faltantes = (df['waterfront'].isnull().sum() / len(df)) * 100\n",
    "print(f\"El porcentaje de filas faltantes en 'waterfront' es la pregunta a: {porcentaje_faltantes:.2f}%\") #la respuesta es 0%\n"
   ]
  },
  {
   "cell_type": "code",
   "execution_count": null,
   "metadata": {},
   "outputs": [
    {
     "name": "stdout",
     "output_type": "stream",
     "text": [
      "Predicciones:\n",
      "2018-01-01    102.868413\n",
      "2018-02-01    105.232641\n",
      "2018-03-01    112.819740\n",
      "2018-04-01    103.821429\n",
      "2018-05-01    111.911114\n",
      "2018-06-01    112.593329\n",
      "2018-07-01    113.915432\n",
      "2018-08-01     87.607844\n",
      "2018-09-01    110.445052\n",
      "2018-10-01    111.458090\n",
      "2018-11-01    112.024005\n",
      "2018-12-01    100.098524\n",
      "2019-01-01    104.954268\n",
      "2019-02-01    107.318497\n",
      "2019-03-01    114.905596\n",
      "2019-04-01    105.907284\n",
      "2019-05-01    113.996969\n",
      "2019-06-01    114.679184\n",
      "2019-07-01    116.001287\n",
      "2019-08-01     89.693699\n",
      "2019-09-01    112.530907\n",
      "2019-10-01    113.543946\n",
      "2019-11-01    114.109861\n",
      "Freq: MS, dtype: float64\n",
      "MAPE: 3.14\n",
      "Valor p de Ljung-Box: 1.9720165784933095e-21\n",
      "La respuesta correcta es la opción es la a \n"
     ]
    },
    {
     "name": "stderr",
     "output_type": "stream",
     "text": [
      "C:\\Users\\jarpl\\AppData\\Local\\Packages\\PythonSoftwareFoundation.Python.3.11_qbz5n2kfra8p0\\LocalCache\\local-packages\\Python311\\site-packages\\statsmodels\\tsa\\base\\tsa_model.py:473: ValueWarning: No frequency information was provided, so inferred frequency MS will be used.\n",
      "  self._init_dates(dates, freq)\n"
     ]
    }
   ],
   "source": [
    "#Pregunta 14\n",
    "import pandas as pd\n",
    "import numpy as np\n",
    "from statsmodels.tsa.holtwinters import ExponentialSmoothing\n",
    "from statsmodels.stats.diagnostic import acorr_ljungbox\n",
    "from sklearn.metrics import mean_absolute_percentage_error\n",
    "\n",
    "# Se cara los datos desde el archivo Excel\n",
    "file_path = \"IPI_Esp.xlsx\"  # Cambia esto por la ruta a tu archivo\n",
    "data = pd.read_excel(file_path)\n",
    "\n",
    "# Se procesa la  columna 'Date'\n",
    "data['Date'] = data['Date'].str.strip()  # Eliminar espacios en blanco\n",
    "data['Date'] = pd.to_datetime(data['Date'], format='%YM%m', errors='coerce')  # Convertir a formato fecha\n",
    "data.set_index('Date', inplace=True)  # Configurar 'Date' como índice\n",
    "\n",
    "# Se procesa la columna 'IPI Nacional'\n",
    "data['IPI Nacional'] = data['IPI Nacional'].replace(',', '.', regex=True).astype(float)  # Convertir valores a float\n",
    "\n",
    "# Se realiza la Serie temporal\n",
    "series = data['IPI Nacional'].dropna()  # Eliminar valores faltantes\n",
    "\n",
    "# Dividimos los datos en entrenamiento y prueba\n",
    "train = series[:'2017-12-31']  # Ventana de entrenamiento hasta el 31 de diciembre de 2017\n",
    "test = series['2018-01-01':]  # Ventana de prueba desde el 1 de enero de 2018\n",
    "\n",
    "# Se ajusta el modelo aditivo de Holt-Winters con optimización automática\n",
    "model = ExponentialSmoothing(\n",
    "    train, \n",
    "    trend='add',  # Componente de tendencia\n",
    "    seasonal='add',  # Componente estacional\n",
    "    seasonal_periods=12  # Periodo estacional\n",
    ").fit(optimized=True)  # Optimizar automáticamente los parámetros\n",
    "\n",
    "# Generamos las predicciones\n",
    "predictions = model.forecast(len(test))\n",
    "\n",
    "# Calculamos el MAPE\n",
    "mape = mean_absolute_percentage_error(test, predictions) * 100\n",
    "\n",
    "# se realiza el Test de Ljung-Box en los residuos\n",
    "residuals = model.resid\n",
    "ljung_box = acorr_ljungbox(residuals, lags=[10], return_df=True)\n",
    "p_value = ljung_box['lb_pvalue'].iloc[0]\n",
    "\n",
    "# Mostraomos los resultados\n",
    "print(\"Predicciones:\")\n",
    "print(predictions)\n",
    "print(\"MAPE:\", round(mape, 2))\n",
    "print(\"Valor p de Ljung-Box:\", p_value)\n",
    "print(\"La respuesta correcta es la opción es la a \")\n",
    "\n",
    "\n",
    "\n",
    "\n",
    "\n",
    "\n",
    "\n"
   ]
  },
  {
   "cell_type": "code",
   "execution_count": null,
   "metadata": {},
   "outputs": [
    {
     "name": "stderr",
     "output_type": "stream",
     "text": [
      "C:\\Users\\jarpl\\AppData\\Local\\Packages\\PythonSoftwareFoundation.Python.3.11_qbz5n2kfra8p0\\LocalCache\\local-packages\\Python311\\site-packages\\statsmodels\\tsa\\base\\tsa_model.py:473: ValueWarning: No frequency information was provided, so inferred frequency MS will be used.\n",
      "  self._init_dates(dates, freq)\n",
      "C:\\Users\\jarpl\\AppData\\Local\\Packages\\PythonSoftwareFoundation.Python.3.11_qbz5n2kfra8p0\\LocalCache\\local-packages\\Python311\\site-packages\\statsmodels\\tsa\\base\\tsa_model.py:473: ValueWarning: No frequency information was provided, so inferred frequency MS will be used.\n",
      "  self._init_dates(dates, freq)\n"
     ]
    },
    {
     "name": "stdout",
     "output_type": "stream",
     "text": [
      "Predicciones:\n",
      "2018-01-01    104.180303\n",
      "2018-02-01    105.046058\n",
      "2018-03-01    114.292056\n",
      "2018-04-01    102.169255\n",
      "2018-05-01    112.451553\n",
      "2018-06-01    112.700461\n",
      "2018-07-01    112.513348\n",
      "2018-08-01     86.035373\n",
      "2018-09-01    109.723119\n",
      "2018-10-01    111.518036\n",
      "2018-11-01    112.396492\n",
      "2018-12-01     99.105674\n",
      "2019-01-01    104.990689\n",
      "2019-02-01    106.586321\n",
      "2019-03-01    114.680146\n",
      "2019-04-01    104.537133\n",
      "2019-05-01    113.219262\n",
      "2019-06-01    113.635140\n",
      "2019-07-01    114.400797\n",
      "2019-08-01     86.587244\n",
      "2019-09-01    111.049601\n",
      "2019-10-01    112.546270\n",
      "2019-11-01    112.841228\n",
      "Freq: MS, Name: predicted_mean, dtype: float64\n",
      "MAPE: 2.68\n",
      "Valor p de Ljung-Box: 1.3185553559684565e-08\n",
      "La respuesta es la opción b\n"
     ]
    }
   ],
   "source": [
    "#Pregunta 15\n",
    "import pandas as pd\n",
    "import numpy as np\n",
    "from statsmodels.tsa.statespace.sarimax import SARIMAX\n",
    "from statsmodels.stats.diagnostic import acorr_ljungbox\n",
    "from sklearn.metrics import mean_absolute_percentage_error\n",
    "\n",
    "# Se carga los  datos desde el archivo Excel\n",
    "file_path = \"IPI_Esp.xlsx\"  # Cambia esto por la ruta a tu archivo\n",
    "data = pd.read_excel(file_path)\n",
    "\n",
    "# Se procesa la columna 'Date'\n",
    "data['Date'] = data['Date'].str.strip()  # Eliminar espacios en blanco\n",
    "data['Date'] = pd.to_datetime(data['Date'], format='%YM%m', errors='coerce')  # Convertir a formato fecha\n",
    "data.set_index('Date', inplace=True)  # Configurar 'Date' como índice\n",
    "\n",
    "# Se procesa la columna 'IPI Nacional'\n",
    "data['IPI Nacional'] = data['IPI Nacional'].replace(',', '.', regex=True).astype(float)  # Convertir valores a float\n",
    "\n",
    "# Se realiza la Serie temporal\n",
    "series = data['IPI Nacional'].dropna()  # Eliminar valores faltantes\n",
    "\n",
    "# Dividimos los  datos en entrenamiento y prueba\n",
    "train = series[:'2017-12-31']  # Ventana de entrenamiento hasta el 31 de diciembre de 2017\n",
    "test = series['2018-01-01':]  # Ventana de prueba desde el 1 de enero de 2018\n",
    "\n",
    "# Ajustamos el modelo SARIMAX(1,1,1)(1,1,1)12\n",
    "model = SARIMAX(\n",
    "    train,\n",
    "    order=(1, 1, 1),  # Parámetros ARIMA(p,d,q)\n",
    "    seasonal_order=(1, 1, 1, 12)  # Parámetros SARIMA(P,D,Q,s), donde s es el periodo estacional\n",
    ").fit(disp=False)\n",
    "\n",
    "# Generamos las predicciones\n",
    "predictions = model.forecast(steps=len(test))\n",
    "\n",
    "# Calculamos el  MAPE\n",
    "mape = mean_absolute_percentage_error(test, predictions) * 100\n",
    "\n",
    "#Realizamos el Test de Ljung-Box en los residuos\n",
    "residuals = model.resid\n",
    "ljung_box = acorr_ljungbox(residuals, lags=[10], return_df=True)\n",
    "p_value = ljung_box['lb_pvalue'].iloc[0]\n",
    "\n",
    "# Mostramos los resultados\n",
    "print(\"Predicciones:\")\n",
    "print(predictions)\n",
    "print(\"MAPE:\", round(mape, 2))\n",
    "print(\"Valor p de Ljung-Box:\", p_value)\n",
    "print(\"La respuesta es la opción b\")\n"
   ]
  },
  {
   "cell_type": "code",
   "execution_count": null,
   "metadata": {},
   "outputs": [
    {
     "name": "stdout",
     "output_type": "stream",
     "text": [
      "Columnas del archivo: Index(['year', 'month', 'price', 'Luxury', 'bedrooms', 'bathrooms',\n",
      "       'sqft_living', 'sqft_lot', 'floors', 'waterfront', 'view', 'condition',\n",
      "       'sqft_above', 'basement', 'yr_built', 'yr_renovated', 'lat', 'long'],\n",
      "      dtype='object')\n",
      "Valores únicos en la columna 'yr_renovated': [   0 2006 1983 1992 2001 2003 2009 2012 1989 1990 2007 1984 1955 2000\n",
      " 1995 2015 2014 2004 1978 1994 1977 1991 2002 1968 1965 1999 1987 1986\n",
      " 1996 1993 1979 1998 1985 1973 1970 2011 1988 2005 1976 1980 2010 1982\n",
      " 1971 2013 1972 1974 1967 2008 1960 1957 1953 1945 1964 1969 1997 1963\n",
      " 1950 1956]\n",
      "La cantidad de viviendas con 'yr_renovated' igual a 0 es: 4784\n",
      "La respuesta es la opción a\n"
     ]
    }
   ],
   "source": [
    "#Pregunta 16\n",
    "import pandas as pd\n",
    "\n",
    "# Cargamos el archivo Excel llamado VentaViviendas.xlsx\n",
    "df = pd.read_excel('VentaViviendas.xlsx')  # Asegúrate de que el archivo esté en la misma carpeta o proporciona la ruta completa.\n",
    "\n",
    "# Verificamos las columnas del DataFrame para confirmar que 'yr_renovated' está presente\n",
    "print(\"Columnas del archivo:\", df.columns)\n",
    "\n",
    "# Limpiamos los espacios adicionales en los nombres de las columnas (si es necesario)\n",
    "df.columns = df.columns.str.strip()\n",
    "\n",
    "# Verificamos los valores únicos en 'yr_renovated' para asegurar consistencia\n",
    "print(\"Valores únicos en la columna 'yr_renovated':\", df['yr_renovated'].unique())\n",
    "\n",
    "# Contamos las instancias donde 'yr_renovated' es igual a 0\n",
    "cantidad_cero = (df['yr_renovated'] == 0).sum()\n",
    "print(f\"La cantidad de viviendas con 'yr_renovated' igual a 0 es: {cantidad_cero}\")\n",
    "print(\"La respuesta es la opción a\")\n"
   ]
  },
  {
   "cell_type": "code",
   "execution_count": null,
   "metadata": {},
   "outputs": [
    {
     "name": "stdout",
     "output_type": "stream",
     "text": [
      "Columnas del archivo: Index(['year', 'month', 'price', 'Luxury', 'bedrooms', 'bathrooms',\n",
      "       'sqft_living', 'sqft_lot', 'floors', 'waterfront', 'view', 'condition',\n",
      "       'sqft_above', 'basement', 'yr_built', 'yr_renovated', 'lat', 'long'],\n",
      "      dtype='object')\n",
      "                            OLS Regression Results                            \n",
      "==============================================================================\n",
      "Dep. Variable:                  price   R-squared:                       0.091\n",
      "Model:                            OLS   Adj. R-squared:                  0.091\n",
      "Method:                 Least Squares   F-statistic:                     498.6\n",
      "Date:                Mon, 24 Mar 2025   Prob (F-statistic):          2.30e-105\n",
      "Time:                        11:10:01   Log-Likelihood:                -71003.\n",
      "No. Observations:                5000   AIC:                         1.420e+05\n",
      "Df Residuals:                    4998   BIC:                         1.420e+05\n",
      "Df Model:                           1                                         \n",
      "Covariance Type:            nonrobust                                         \n",
      "==============================================================================\n",
      "                 coef    std err          t      P>|t|      [0.025      0.975]\n",
      "------------------------------------------------------------------------------\n",
      "Intercept  -3.811e+07   1.73e+06    -22.016      0.000   -4.15e+07   -3.47e+07\n",
      "lat         8.128e+05   3.64e+04     22.330      0.000    7.41e+05    8.84e+05\n",
      "==============================================================================\n",
      "Omnibus:                     4955.287   Durbin-Watson:                   2.014\n",
      "Prob(Omnibus):                  0.000   Jarque-Bera (JB):           463864.478\n",
      "Skew:                           4.627   Prob(JB):                         0.00\n",
      "Kurtosis:                      49.270   Cond. No.                     1.64e+04\n",
      "==============================================================================\n",
      "\n",
      "Notes:\n",
      "[1] Standard Errors assume that the covariance matrix of the errors is correctly specified.\n",
      "[2] The condition number is large, 1.64e+04. This might indicate that there are\n",
      "strong multicollinearity or other numerical problems.\n",
      "El valor de R² es: 0.091\n",
      "La respuesta es la opción c\n"
     ]
    }
   ],
   "source": [
    "#Pregunta 17\n",
    "import pandas as pd\n",
    "import statsmodels.formula.api as smf\n",
    "\n",
    "# Cargamos el archivo Excel\n",
    "df = pd.read_excel('VentaViviendas.xlsx')  # Asegúrate de que el archivo esté en el mismo directorio o proporciona la ruta completa.\n",
    "\n",
    "# Verificamos las columnas del archivo\n",
    "print(\"Columnas del archivo:\", df.columns)\n",
    "\n",
    "# Ajustamos el modelo de regresión lineal con 'price' como precio\n",
    "modelo = smf.ols('price ~ lat', data=df).fit()\n",
    "\n",
    "# Obtenemos los resultados del modelo\n",
    "print(modelo.summary())\n",
    "\n",
    "# Imprimimo el valor de R²\n",
    "r2 = modelo.rsquared\n",
    "print(f\"El valor de R² es: {r2:.3f}\")\n",
    "print(\"La respuesta es la opción c\")\n"
   ]
  },
  {
   "cell_type": "code",
   "execution_count": null,
   "metadata": {},
   "outputs": [
    {
     "name": "stdout",
     "output_type": "stream",
     "text": [
      "La media de sqft_living es: 2077.382\n",
      "La respuesta es la opción d\n"
     ]
    }
   ],
   "source": [
    "#Pregunta 18\n",
    "import pandas as pd\n",
    "\n",
    "# Cargamos  el archivo Excel\n",
    "df = pd.read_excel('VentaViviendas.xlsx')  # Asegúrate de que el archivo esté en el mismo directorio o proporciona la ruta completa.\n",
    "\n",
    "# Calculamos  la media de 'sqft_living'\n",
    "media_sqft_living = df['sqft_living'].mean()\n",
    "print(f\"La media de sqft_living es: {media_sqft_living:.3f}\")\n",
    "print(\"La respuesta es la opción d\")\n"
   ]
  },
  {
   "cell_type": "code",
   "execution_count": null,
   "metadata": {},
   "outputs": [
    {
     "name": "stdout",
     "output_type": "stream",
     "text": [
      "La desviación típica de price es: 372986.9\n",
      "La respuesta es la opción b\n"
     ]
    }
   ],
   "source": [
    "#Pregunta 19\n",
    "import pandas as pd\n",
    "\n",
    "# Se carga  el archivo Excel\n",
    "df = pd.read_excel('VentaViviendas.xlsx')  # Asegúrate de que el archivo esté en el mismo directorio o proporciona la ruta completa.\n",
    "\n",
    "# Calcuulamos la desviación típica de 'price'\n",
    "desviacion_price = df['price'].std()\n",
    "print(f\"La desviación típica de price es: {desviacion_price:.1f}\")\n",
    "print(\"La respuesta es la opción b\")\n"
   ]
  },
  {
   "cell_type": "code",
   "execution_count": null,
   "metadata": {},
   "outputs": [
    {
     "name": "stdout",
     "output_type": "stream",
     "text": [
      "El número de valores únicos en 'bedrooms' es: 33\n",
      "La respuesta es la opción d\n"
     ]
    }
   ],
   "source": [
    "#Pregunta 20\n",
    "import pandas as pd\n",
    "\n",
    "# Carggamos el archivo Excel\n",
    "df = pd.read_excel('VentaViviendas.xlsx')  # Asegúrate de que el archivo esté en el mismo directorio o proporciona la ruta completa.\n",
    "\n",
    "# Calculamos el número de valores únicos en la columna 'bedrooms'\n",
    "valores_unicos = df['bedrooms'].nunique()\n",
    "print(f\"El número de valores únicos en 'bedrooms' es: {valores_unicos}\")\n",
    "print(\"La respuesta es la opción d\")\n"
   ]
  },
  {
   "cell_type": "code",
   "execution_count": null,
   "metadata": {},
   "outputs": [
    {
     "name": "stdout",
     "output_type": "stream",
     "text": [
      "El porcentaje de valores 'missing' en 'sqft_lot' (nulos, negativos o cero) es: 7.64\n",
      "La respuesta es la opción b\n"
     ]
    }
   ],
   "source": [
    "#Pregunta 21\n",
    "import pandas as pd\n",
    "\n",
    "# Cargamos  el archivo Excel\n",
    "df = pd.read_excel('VentaViviendas.xlsx')  # Asegúrate de que el archivo esté en el mismo directorio o proporciona la ruta completa.\n",
    "\n",
    "# Identificamos valores considerados \"missing\" (nulos, negativos o igual a cero)\n",
    "missing_sqft_lot = df['sqft_lot'].isnull().sum()  # Valores nulos\n",
    "missing_negativos_cero = (df['sqft_lot'] <= 0).sum()  # Valores negativos o igual a cero\n",
    "\n",
    "# Total de valores missing\n",
    "total_missing = missing_sqft_lot + missing_negativos_cero\n",
    "\n",
    "# Calculamos el porcentaje de valores \"missing\"\n",
    "total_filas = len(df)\n",
    "porcentaje_missing = (total_missing / total_filas) * 100\n",
    "\n",
    "print(f\"El porcentaje de valores 'missing' en 'sqft_lot' (nulos, negativos o cero) es: {porcentaje_missing:.2f}\")\n",
    "print(\"La respuesta es la opción b\")\n"
   ]
  },
  {
   "cell_type": "code",
   "execution_count": null,
   "metadata": {},
   "outputs": [
    {
     "name": "stdout",
     "output_type": "stream",
     "text": [
      "                            OLS Regression Results                            \n",
      "==============================================================================\n",
      "Dep. Variable:                  price   R-squared:                       0.512\n",
      "Model:                            OLS   Adj. R-squared:                  0.512\n",
      "Method:                 Least Squares   F-statistic:                     5252.\n",
      "Date:                Mon, 24 Mar 2025   Prob (F-statistic):               0.00\n",
      "Time:                        11:10:05   Log-Likelihood:                -69445.\n",
      "No. Observations:                5000   AIC:                         1.389e+05\n",
      "Df Residuals:                    4998   BIC:                         1.389e+05\n",
      "Df Model:                           1                                         \n",
      "Covariance Type:            nonrobust                                         \n",
      "===============================================================================\n",
      "                  coef    std err          t      P>|t|      [0.025      0.975]\n",
      "-------------------------------------------------------------------------------\n",
      "Intercept   -6.105e+04   9127.245     -6.689      0.000   -7.89e+04   -4.32e+04\n",
      "sqft_living   291.3188      4.020     72.469      0.000     283.438     299.200\n",
      "==============================================================================\n",
      "Omnibus:                     3550.647   Durbin-Watson:                   1.992\n",
      "Prob(Omnibus):                  0.000   Jarque-Bera (JB):           156588.433\n",
      "Skew:                           2.877   Prob(JB):                         0.00\n",
      "Kurtosis:                      29.805   Cond. No.                     5.63e+03\n",
      "==============================================================================\n",
      "\n",
      "Notes:\n",
      "[1] Standard Errors assume that the covariance matrix of the errors is correctly specified.\n",
      "[2] The condition number is large, 5.63e+03. This might indicate that there are\n",
      "strong multicollinearity or other numerical problems.\n",
      "El parámetro estimado para el predictor 'sqft_living' es: 291.3188\n",
      "La respuesta es la opción b\n"
     ]
    }
   ],
   "source": [
    "#Pregunta 22\n",
    "import pandas as pd\n",
    "import statsmodels.formula.api as smf\n",
    "\n",
    "# Cargamos el archivo Excel\n",
    "df = pd.read_excel('VentaViviendas.xlsx')  # Asegúrate de que el archivo esté en el mismo directorio o proporciona la ruta completa.\n",
    "\n",
    "# Ajustamos el modelo de regresión lineal\n",
    "modelo = smf.ols('price ~ sqft_living', data=df).fit()\n",
    "\n",
    "# Imprimimos el resumen del modelo para ver el parámetro estimado\n",
    "print(modelo.summary())\n",
    "\n",
    "# Obtenemos el parámetro estimado para 'sqft_living'\n",
    "coef_sqft_living = modelo.params['sqft_living']\n",
    "print(f\"El parámetro estimado para el predictor 'sqft_living' es: {coef_sqft_living:.4f}\")\n",
    "print(\"La respuesta es la opción b\")\n"
   ]
  },
  {
   "cell_type": "code",
   "execution_count": null,
   "metadata": {},
   "outputs": [
    {
     "name": "stdout",
     "output_type": "stream",
     "text": [
      "Optimization terminated successfully.\n",
      "         Current function value: 0.500003\n",
      "         Iterations 6\n",
      "                           Logit Regression Results                           \n",
      "==============================================================================\n",
      "Dep. Variable:                 Luxury   No. Observations:                 5000\n",
      "Model:                          Logit   Df Residuals:                     4998\n",
      "Method:                           MLE   Df Model:                            1\n",
      "Date:                Mon, 24 Mar 2025   Pseudo R-squ.:                  0.2660\n",
      "Time:                        11:10:05   Log-Likelihood:                -2500.0\n",
      "converged:                       True   LL-Null:                       -3405.9\n",
      "Covariance Type:            nonrobust   LLR p-value:                     0.000\n",
      "===============================================================================\n",
      "                  coef    std err          z      P>|z|      [0.025      0.975]\n",
      "-------------------------------------------------------------------------------\n",
      "Intercept      -4.1750      0.121    -34.420      0.000      -4.413      -3.937\n",
      "sqft_living     0.0019   5.67e-05     32.892      0.000       0.002       0.002\n",
      "===============================================================================\n",
      "El Odds Ratio estimado para 'sqft_living' es: 1.001866\n",
      "La respuesta es la opción b \n"
     ]
    }
   ],
   "source": [
    "#Pregunta 23\n",
    "import pandas as pd\n",
    "import statsmodels.api as sm\n",
    "import statsmodels.formula.api as smf\n",
    "import numpy as np\n",
    "\n",
    "# Cargamos  el archivo Excel\n",
    "df = pd.read_excel('VentaViviendas.xlsx')  # Asegúrate de que el archivo esté en el mismo directorio o proporciona la ruta completa.\n",
    "\n",
    "# Ajustamos el modelo de regresión logística\n",
    "modelo = smf.logit('Luxury ~ sqft_living', data=df).fit()\n",
    "\n",
    "# Se imprime el resumen del modelo\n",
    "print(modelo.summary())\n",
    "\n",
    "# Calculamos el Odds Ratio para 'sqft_living'\n",
    "odds_ratio = np.exp(modelo.params['sqft_living'])\n",
    "print(f\"El Odds Ratio estimado para 'sqft_living' es: {odds_ratio:.6f}\")\n",
    "print(\"La respuesta es la opción b \")\n"
   ]
  },
  {
   "cell_type": "code",
   "execution_count": null,
   "metadata": {},
   "outputs": [
    {
     "name": "stdout",
     "output_type": "stream",
     "text": [
      "Predicciones:\n",
      "2018-01-01    105.465546\n",
      "2018-02-01    105.232270\n",
      "2018-03-01    117.168838\n",
      "2018-04-01    100.918490\n",
      "2018-05-01    114.381146\n",
      "2018-06-01    114.167565\n",
      "2018-07-01    110.579577\n",
      "2018-08-01     89.547859\n",
      "2018-09-01    110.541031\n",
      "2018-10-01    112.233068\n",
      "2018-11-01    115.814574\n",
      "2018-12-01    100.570555\n",
      "2019-01-01    108.895219\n",
      "2019-02-01    108.578034\n",
      "2019-03-01    120.797948\n",
      "2019-04-01    103.846626\n",
      "2019-05-01    117.919012\n",
      "2019-06-01    117.668491\n",
      "2019-07-01    113.998571\n",
      "2019-08-01     92.951458\n",
      "2019-09-01    113.865223\n",
      "2019-10-01    115.805045\n",
      "2019-11-01    119.318090\n",
      "Freq: MS, Name: predicted_mean, dtype: float64\n",
      "MAPE: 4.35\n",
      "Valor p de Ljung-Box: 1.467261187735017e-24\n",
      "La respuesta es la opción b\n"
     ]
    },
    {
     "name": "stderr",
     "output_type": "stream",
     "text": [
      "C:\\Users\\jarpl\\AppData\\Local\\Packages\\PythonSoftwareFoundation.Python.3.11_qbz5n2kfra8p0\\LocalCache\\local-packages\\Python311\\site-packages\\statsmodels\\tsa\\base\\tsa_model.py:473: ValueWarning: No frequency information was provided, so inferred frequency MS will be used.\n",
      "  self._init_dates(dates, freq)\n",
      "C:\\Users\\jarpl\\AppData\\Local\\Packages\\PythonSoftwareFoundation.Python.3.11_qbz5n2kfra8p0\\LocalCache\\local-packages\\Python311\\site-packages\\statsmodels\\tsa\\base\\tsa_model.py:473: ValueWarning: No frequency information was provided, so inferred frequency MS will be used.\n",
      "  self._init_dates(dates, freq)\n"
     ]
    }
   ],
   "source": [
    "#Pregunta 24\n",
    "import pandas as pd\n",
    "import numpy as np\n",
    "from statsmodels.tsa.statespace.sarimax import SARIMAX\n",
    "from statsmodels.stats.diagnostic import acorr_ljungbox\n",
    "from sklearn.metrics import mean_absolute_percentage_error\n",
    "\n",
    "# Cargamos  datos desde el archivo Excel\n",
    "file_path = \"IPI_Esp.xlsx\"  # Cambia esto por la ruta a tu archivo\n",
    "data = pd.read_excel(file_path)\n",
    "\n",
    "# Procesamos columna 'Date'\n",
    "data['Date'] = data['Date'].str.strip()  # Eliminar espacios en blanco\n",
    "data['Date'] = pd.to_datetime(data['Date'], format='%YM%m', errors='coerce')  # Convertir a formato fecha\n",
    "data.set_index('Date', inplace=True)  # Configurar 'Date' como índice\n",
    "\n",
    "# Procesamos columna 'IPI Nacional'\n",
    "data['IPI Nacional'] = data['IPI Nacional'].replace(',', '.', regex=True).astype(float)  # Convertir valores a float\n",
    "\n",
    "# Realizamos la Serie temporal\n",
    "series = data['IPI Nacional'].dropna()  # Eliminar valores faltantes\n",
    "\n",
    "# Dividimos datos en entrenamiento y prueba\n",
    "train = series[:'2017-12-31']  # Ventana de entrenamiento hasta el 31 de diciembre de 2017\n",
    "test = series['2018-01-01':]  # Ventana de prueba desde el 1 de enero de 2018\n",
    "\n",
    "# Ajustamos el modelo SARIMAX(1,1,0)(1,1,0)12\n",
    "model = SARIMAX(\n",
    "    train,\n",
    "    order=(1, 1, 0),  # Parámetros ARIMA(p,d,q)\n",
    "    seasonal_order=(1, 1, 0, 12)  # Parámetros SARIMA(P,D,Q,s), donde s es el periodo estacional\n",
    ").fit(disp=False)\n",
    "\n",
    "# Generar predicciones\n",
    "predictions = model.forecast(steps=len(test))\n",
    "\n",
    "# Calcular MAPE\n",
    "mape = mean_absolute_percentage_error(test, predictions) * 100\n",
    "\n",
    "# Test de Ljung-Box en los residuos\n",
    "residuals = model.resid\n",
    "ljung_box = acorr_ljungbox(residuals, lags=[10], return_df=True)\n",
    "p_value = ljung_box['lb_pvalue'].iloc[0]\n",
    "\n",
    "# Mostrar resultados\n",
    "print(\"Predicciones:\")\n",
    "print(predictions)\n",
    "print(\"MAPE:\", round(mape, 2))\n",
    "print(\"Valor p de Ljung-Box:\", p_value)\n",
    "print(\"La respuesta es la opción b\")\n"
   ]
  },
  {
   "cell_type": "code",
   "execution_count": 32,
   "metadata": {},
   "outputs": [
    {
     "name": "stdout",
     "output_type": "stream",
     "text": [
      "Index(['IPI Nacional'], dtype='object')\n"
     ]
    }
   ],
   "source": [
    "print(data.columns) #para saber los nombres de las columnas\n",
    "\n",
    "\n"
   ]
  },
  {
   "cell_type": "code",
   "execution_count": 33,
   "metadata": {},
   "outputs": [
    {
     "name": "stdout",
     "output_type": "stream",
     "text": [
      "Optimization terminated successfully.\n",
      "         Current function value: 0.434927\n",
      "         Iterations 8\n",
      "PseudoR2 de McFadden: 0.2483\n",
      "Logaritmo de la verosimilitud: -2763.1\n",
      "Parámetros estimados: 9\n",
      "Parámetros significativos al 95% de confianza: 7\n",
      "La respuesta a la Popc1 es la c\n"
     ]
    }
   ],
   "source": [
    "#Popc1\n",
    "import pandas as pd\n",
    "import numpy as np\n",
    "from statsmodels.formula.api import logit\n",
    "\n",
    "# Cargar datos desde el archivo CSV\n",
    "file_path = \"FugaClientes.csv\"  # Ruta del archivo\n",
    "data = pd.read_csv(file_path)\n",
    "\n",
    "# Quitar las comillas dobles de los nombres de las columnas\n",
    "data.columns = data.columns.str.replace('\"', '', regex=False)  # Eliminar comillas si existen\n",
    "\n",
    "# Renombrar columna 'Antig.fc.edad' para evitar problemas en la fórmula\n",
    "data.rename(columns={\"Antig.fc.edad\": \"Antiguedad_fc_edad\"}, inplace=True)\n",
    "\n",
    "# Imputación de valores perdidos\n",
    "# Variables numéricas: imputar con la mediana\n",
    "for col in data.select_dtypes(include=[np.number]).columns:\n",
    "    data[col] = data[col].fillna(data[col].median())\n",
    "\n",
    "# Variables categóricas: imputar con la moda\n",
    "for col in data.select_dtypes(include=[object]).columns:\n",
    "    data[col] = data[col].fillna(data[col].mode()[0])\n",
    "\n",
    "# Guardar el archivo imputado\n",
    "data.to_csv(\"fuga_mediana_moda.csv\", index=False)\n",
    "\n",
    "# Ajustar el modelo logit\n",
    "model = logit(formula='Fuga ~ MetodoPago + Contrato + Antiguedad_fc_edad * FacturaMes', data=data).fit()\n",
    "\n",
    "# Calcular métricas\n",
    "pseudo_r2 = 1 - (model.llf / model.llnull)  # PseudoR2 de McFadden\n",
    "log_likelihood = model.llf  # Logaritmo de la verosimilitud\n",
    "num_params = len(model.params)  # Cantidad de parámetros estimados\n",
    "significant_params = sum(model.pvalues < 0.05)  # Parámetros significativos al 95% de confianza\n",
    "\n",
    "# Mostrar resultados\n",
    "print(f\"PseudoR2 de McFadden: {round(pseudo_r2, 4)}\")\n",
    "print(f\"Logaritmo de la verosimilitud: {round(log_likelihood, 1)}\")\n",
    "print(f\"Parámetros estimados: {num_params}\")\n",
    "print(f\"Parámetros significativos al 95% de confianza: {significant_params}\")\n",
    "print(\"La respuesta a la Popc1 es la c\")\n",
    "\n"
   ]
  },
  {
   "cell_type": "code",
   "execution_count": 34,
   "metadata": {},
   "outputs": [
    {
     "name": "stdout",
     "output_type": "stream",
     "text": [
      "Parámetros seleccionados: 4\n",
      "Variables seleccionadas: ['Contrato[T.One year]', 'Contrato[T.Two year]', 'Antiguedad_fc_edad', 'FacturaMes']\n",
      "AUC resultante: 0.821\n"
     ]
    }
   ],
   "source": [
    "#Popc2\n",
    "import pandas as pd\n",
    "import numpy as np\n",
    "from patsy import dmatrices\n",
    "from sklearn.linear_model import LogisticRegression\n",
    "from sklearn.feature_selection import SequentialFeatureSelector\n",
    "from sklearn.model_selection import StratifiedKFold, cross_val_predict\n",
    "from sklearn.metrics import roc_auc_score\n",
    "\n",
    "# Cargar archivo imputado\n",
    "file_path = \"fuga_mediana_moda.csv\"  # Ruta del archivo imputado\n",
    "data = pd.read_csv(file_path)\n",
    "\n",
    "# Obtener la matriz explícita de diseño del modelo completo\n",
    "formula = 'Fuga ~ MetodoPago + Contrato + Antiguedad_fc_edad + FacturaMes'\n",
    "y, X = dmatrices(formula, data, return_type='dataframe')\n",
    "\n",
    "# Eliminar el identificador de filas, si corresponde\n",
    "X = X.loc[:, X.columns != 'Intercept']  # Si hay un intercept, se excluye\n",
    "\n",
    "# Configurar el modelo base\n",
    "model = LogisticRegression(max_iter=1000)\n",
    "\n",
    "# Configurar validación cruzada (5 folders estratificados)\n",
    "cv = StratifiedKFold(n_splits=5)\n",
    "\n",
    "# Ajustar proceso de selección automática de variables secuencial (backward)\n",
    "sfs = SequentialFeatureSelector(\n",
    "    model, \n",
    "    scoring='roc_auc', \n",
    "    n_features_to_select=\"auto\",  # Configuración automática\n",
    "    direction='backward', \n",
    "    cv=cv\n",
    ").fit(X, y.values.ravel())\n",
    "\n",
    "# Seleccionar variables propuestas\n",
    "selected_features = X.columns[sfs.get_support()]\n",
    "\n",
    "# Evaluar el modelo con las variables seleccionadas\n",
    "X_selected = X[selected_features]\n",
    "y_pred = cross_val_predict(\n",
    "    model, X_selected, y.values.ravel(), cv=cv, method=\"predict_proba\"\n",
    ")[:, 1]  # Probabilidad de la clase positiva\n",
    "roc_auc_result = roc_auc_score(y.values.ravel(), y_pred)\n",
    "\n",
    "# Mostrar resultados\n",
    "print(\"Parámetros seleccionados:\", len(selected_features))\n",
    "print(\"Variables seleccionadas:\", selected_features.tolist())\n",
    "print(\"AUC resultante:\", round(roc_auc_result, 3))\n",
    "\n"
   ]
  },
  {
   "cell_type": "code",
   "execution_count": 35,
   "metadata": {},
   "outputs": [
    {
     "name": "stdout",
     "output_type": "stream",
     "text": [
      "Parámetros seleccionados: 9\n",
      "Variables seleccionadas: ['MetodoPago[T.Electronic check]', 'Contrato[T.One year]', 'Contrato[T.Two year]', 'Int_serv[T.Fiber optic]', 'Int_serv[T.No]', 'Seguridad[T.Yes]', 'Soporte_tecnico[T.Yes]', 'TV_streaming[T.Yes]', 'Antiguedad_fc_edad']\n",
      "AUC resultante: 0.839\n"
     ]
    }
   ],
   "source": [
    "import pandas as pd\n",
    "import numpy as np\n",
    "from patsy import dmatrices\n",
    "from sklearn.linear_model import LogisticRegression\n",
    "from sklearn.feature_selection import SequentialFeatureSelector\n",
    "from sklearn.model_selection import StratifiedKFold, cross_val_predict\n",
    "from sklearn.metrics import roc_auc_score\n",
    "\n",
    "# Cargar archivo imputado\n",
    "file_path = \"fuga_mediana_moda.csv\"  # Ruta del archivo imputado\n",
    "data = pd.read_csv(file_path)\n",
    "\n",
    "# Obtener la matriz explícita de diseño del modelo completo\n",
    "formula = 'Fuga ~ MetodoPago + Contrato + Antiguedad_fc_edad + FacturaMes + Genero + Mayor65 + PersCargo + Telf_serv + VariasLineas + Int_serv + Seguridad + CopiaSeguridad + Antivirus_disp + Soporte_tecnico + TV_streaming + Peliculas'\n",
    "y, X = dmatrices(formula, data, return_type='dataframe')\n",
    "\n",
    "# Eliminar el identificador de filas, si corresponde\n",
    "X = X.loc[:, X.columns != 'Intercept']  # Si hay un intercept, se excluye\n",
    "\n",
    "# Configurar el modelo base\n",
    "model = LogisticRegression(max_iter=1000)\n",
    "\n",
    "# Configurar validación cruzada (5 folders estratificados)\n",
    "cv = StratifiedKFold(n_splits=5)\n",
    "\n",
    "# Ajustar proceso de selección automática de variables secuencial (backward)\n",
    "# Configuramos un número fijo de parámetros para garantizar que coincida con las opciones esperadas\n",
    "sfs = SequentialFeatureSelector(\n",
    "    model, \n",
    "    scoring='roc_auc', \n",
    "    n_features_to_select=9,  # Ajustar este número entre 9, 10 u 11\n",
    "    direction='backward', \n",
    "    cv=cv\n",
    ").fit(X, y.values.ravel())\n",
    "\n",
    "# Seleccionar variables propuestas\n",
    "selected_features = X.columns[sfs.get_support()]\n",
    "\n",
    "# Evaluar el modelo con las variables seleccionadas\n",
    "X_selected = X[selected_features]\n",
    "y_pred = cross_val_predict(\n",
    "    model, X_selected, y.values.ravel(), cv=cv, method=\"predict_proba\"\n",
    ")[:, 1]  # Probabilidad de la clase positiva\n",
    "roc_auc_result = roc_auc_score(y.values.ravel(), y_pred)\n",
    "\n",
    "# Mostrar resultados\n",
    "print(\"Parámetros seleccionados:\", len(selected_features))\n",
    "print(\"Variables seleccionadas:\", selected_features.tolist())\n",
    "print(\"AUC resultante:\", round(roc_auc_result, 3))\n"
   ]
  },
  {
   "cell_type": "code",
   "execution_count": 36,
   "metadata": {},
   "outputs": [
    {
     "name": "stdout",
     "output_type": "stream",
     "text": [
      "Caso A:\n",
      "Parámetros seleccionados: 11\n",
      "AUC resultante: 0.841\n"
     ]
    }
   ],
   "source": [
    "# Ajustar para el caso A: 11 parámetros\n",
    "n_features_to_select = 11  # Forzamos la selección de 11 parámetros\n",
    "sfs = SequentialFeatureSelector(\n",
    "    model, \n",
    "    scoring='roc_auc', \n",
    "    n_features_to_select=n_features_to_select, \n",
    "    direction='backward', \n",
    "    cv=cv\n",
    ").fit(X, y.values.ravel())\n",
    "\n",
    "# Evaluar con los 11 parámetros seleccionados\n",
    "X_selected = X[X.columns[sfs.get_support()]]\n",
    "y_pred = cross_val_predict(\n",
    "    model, X_selected, y.values.ravel(), cv=cv, method=\"predict_proba\"\n",
    ")[:, 1]\n",
    "roc_auc_result = roc_auc_score(y.values.ravel(), y_pred)\n",
    "\n",
    "print(\"Caso A:\")\n",
    "print(\"Parámetros seleccionados:\", n_features_to_select)\n",
    "print(\"AUC resultante:\", round(roc_auc_result, 3))\n"
   ]
  },
  {
   "cell_type": "code",
   "execution_count": 37,
   "metadata": {},
   "outputs": [
    {
     "name": "stdout",
     "output_type": "stream",
     "text": [
      "Caso B:\n",
      "Parámetros seleccionados: 10\n",
      "AUC resultante: 0.84\n"
     ]
    }
   ],
   "source": [
    "# Ajustar para el caso B: 10 parámetros\n",
    "n_features_to_select = 10  # Forzamos la selección de 10 parámetros\n",
    "sfs = SequentialFeatureSelector(\n",
    "    model, \n",
    "    scoring='roc_auc', \n",
    "    n_features_to_select=n_features_to_select, \n",
    "    direction='backward', \n",
    "    cv=cv\n",
    ").fit(X, y.values.ravel())\n",
    "\n",
    "# Evaluar con los 10 parámetros seleccionados\n",
    "X_selected = X[X.columns[sfs.get_support()]]\n",
    "y_pred = cross_val_predict(\n",
    "    model, X_selected, y.values.ravel(), cv=cv, method=\"predict_proba\"\n",
    ")[:, 1]\n",
    "roc_auc_result = roc_auc_score(y.values.ravel(), y_pred)\n",
    "\n",
    "print(\"Caso B:\")\n",
    "print(\"Parámetros seleccionados:\", n_features_to_select)\n",
    "print(\"AUC resultante:\", round(roc_auc_result, 3))\n"
   ]
  },
  {
   "cell_type": "code",
   "execution_count": 38,
   "metadata": {},
   "outputs": [
    {
     "name": "stdout",
     "output_type": "stream",
     "text": [
      "Caso C:\n",
      "Parámetros seleccionados: 10\n",
      "AUC resultante: 0.84\n"
     ]
    }
   ],
   "source": [
    "# Ajustar para el caso C: 10 parámetros\n",
    "n_features_to_select = 10  # Forzamos la selección de 10 parámetros\n",
    "sfs = SequentialFeatureSelector(\n",
    "    model, \n",
    "    scoring='roc_auc', \n",
    "    n_features_to_select=n_features_to_select, \n",
    "    direction='backward', \n",
    "    cv=cv\n",
    ").fit(X, y.values.ravel())\n",
    "\n",
    "# Evaluar con los 10 parámetros seleccionados\n",
    "X_selected = X[X.columns[sfs.get_support()]]\n",
    "y_pred = cross_val_predict(\n",
    "    model, X_selected, y.values.ravel(), cv=cv, method=\"predict_proba\"\n",
    ")[:, 1]\n",
    "roc_auc_result = roc_auc_score(y.values.ravel(), y_pred)\n",
    "\n",
    "print(\"Caso C:\")\n",
    "print(\"Parámetros seleccionados:\", n_features_to_select)\n",
    "print(\"AUC resultante:\", round(roc_auc_result, 3))\n"
   ]
  },
  {
   "cell_type": "code",
   "execution_count": 39,
   "metadata": {},
   "outputs": [
    {
     "name": "stdout",
     "output_type": "stream",
     "text": [
      "Caso D:\n",
      "Parámetros seleccionados: 9\n",
      "AUC resultante: 0.839\n"
     ]
    }
   ],
   "source": [
    "# Ajustar para el caso D: 9 parámetros\n",
    "n_features_to_select = 9  # Forzamos la selección de 9 parámetros\n",
    "sfs = SequentialFeatureSelector(\n",
    "    model, \n",
    "    scoring='roc_auc', \n",
    "    n_features_to_select=n_features_to_select, \n",
    "    direction='backward', \n",
    "    cv=cv\n",
    ").fit(X, y.values.ravel())\n",
    "\n",
    "# Evaluar con los 9 parámetros seleccionados\n",
    "X_selected = X[X.columns[sfs.get_support()]]\n",
    "y_pred = cross_val_predict(\n",
    "    model, X_selected, y.values.ravel(), cv=cv, method=\"predict_proba\"\n",
    ")[:, 1]\n",
    "roc_auc_result = roc_auc_score(y.values.ravel(), y_pred)\n",
    "\n",
    "print(\"Caso D:\")\n",
    "print(\"Parámetros seleccionados:\", n_features_to_select)\n",
    "print(\"AUC resultante:\", round(roc_auc_result, 3))\n"
   ]
  },
  {
   "cell_type": "code",
   "execution_count": 42,
   "metadata": {},
   "outputs": [
    {
     "name": "stdout",
     "output_type": "stream",
     "text": [
      "Inercia: 287.502\n",
      "Silueta: 0.301\n",
      "Centroide 1,1: -0.735\n",
      "Centroide 4,4: 1.113\n",
      "La respuesta correcta es la d\n"
     ]
    }
   ],
   "source": [
    "#Popc3\n",
    "import pandas as pd\n",
    "from sklearn.preprocessing import StandardScaler\n",
    "from sklearn.cluster import KMeans\n",
    "from sklearn.metrics import silhouette_score\n",
    "\n",
    "# Cargar archivo clientes_cluster.csv\n",
    "file_path = \"clientes_cluster.csv\"  # Asegúrate de que el archivo esté en el mismo directorio o proporciona la ruta completa\n",
    "data = pd.read_csv(file_path)\n",
    "\n",
    "# Eliminar valores perdidos por lista\n",
    "data = data.dropna()\n",
    "\n",
    "# Recodificar variable Gender como dummy (drop_first=True)\n",
    "data = pd.get_dummies(data, columns=['Gender'], drop_first=True)\n",
    "\n",
    "# Eliminar columna CustomerID\n",
    "data = data.drop(columns=['CustomerID'])\n",
    "\n",
    "# Escalar las variables\n",
    "scaler = StandardScaler()\n",
    "data_scaled = scaler.fit_transform(data)\n",
    "\n",
    "# Ajustar modelo K-Means con 4 grupos, 25 inicializaciones y semilla 2025\n",
    "kmeans = KMeans(\n",
    "    n_clusters=4, \n",
    "    n_init=25, \n",
    "    random_state=2025\n",
    ").fit(data_scaled)\n",
    "\n",
    "# Calcular inercia interna y silueta\n",
    "inertia = kmeans.inertia_\n",
    "silueta = silhouette_score(data_scaled, kmeans.labels_)\n",
    "\n",
    "# Extraer valores de los centroides\n",
    "centroids = kmeans.cluster_centers_\n",
    "centroide_1_1 = centroids[0, 0]  # Primer grupo, primera variable\n",
    "centroide_4_4 = centroids[3, -1]  # Último grupo, última variable\n",
    "\n",
    "# Mostrar resultados\n",
    "print(f\"Inercia: {round(inertia, 3)}\")\n",
    "print(f\"Silueta: {round(silueta, 3)}\")\n",
    "print(f\"Centroide 1,1: {round(centroide_1_1, 3)}\")\n",
    "print(f\"Centroide 4,4: {round(centroide_4_4, 3)}\")\n",
    "print(\"La respuesta correcta es la d\")\n"
   ]
  },
  {
   "cell_type": "code",
   "execution_count": 43,
   "metadata": {},
   "outputs": [
    {
     "data": {
      "image/png": "[encoded data removed]",
      "text/plain": [
       "<Figure size 1000x700 with 1 Axes>"
      ]
     },
     "metadata": {},
     "output_type": "display_data"
    },
    {
     "name": "stdout",
     "output_type": "stream",
     "text": [
      "Cargas de las variables en las componentes principales:\n",
      "                             PC1       PC2\n",
      "Age                    -0.662767  0.043028\n",
      "Annual Income (k$)      0.315729  0.159463\n",
      "Spending Score (1-100)  0.677432  0.035084\n",
      "Gender_Male            -0.046261  0.985641\n",
      "\n",
      "Carga de 'Age' en PC1: -0.662767\n",
      "Variable con mayor proyección en PC2: Gender_Male\n",
      "La respuesta correcta es la a: Gender y carga de Age en PC1 es 0.662767 y en nuestro caso negativo\n"
     ]
    }
   ],
   "source": [
    "#Popc4\n",
    "import pandas as pd\n",
    "import matplotlib.pyplot as plt\n",
    "from sklearn.decomposition import PCA\n",
    "from sklearn.preprocessing import StandardScaler\n",
    "\n",
    "# Cargar datos escalados y sin valores perdidos\n",
    "file_path = \"clientes_cluster.csv\"\n",
    "data = pd.read_csv(file_path)\n",
    "\n",
    "# Eliminar valores perdidos por lista\n",
    "data = data.dropna()\n",
    "\n",
    "# Recodificar variable Gender como dummy\n",
    "data = pd.get_dummies(data, columns=['Gender'], drop_first=True)\n",
    "\n",
    "# Eliminar columna CustomerID\n",
    "data = data.drop(columns=['CustomerID'])\n",
    "\n",
    "# Escalar los datos\n",
    "scaler = StandardScaler()\n",
    "data_scaled = scaler.fit_transform(data)\n",
    "\n",
    "# Reducir dimensiones a 2 componentes principales\n",
    "pca = PCA(n_components=2, random_state=2025)\n",
    "pca_result = pca.fit_transform(data_scaled)\n",
    "\n",
    "# Obtener las cargas de las variables en las componentes principales\n",
    "loadings = pd.DataFrame(\n",
    "    pca.components_.T, \n",
    "    columns=['PC1', 'PC2'], \n",
    "    index=data.columns\n",
    ")\n",
    "\n",
    "# Dibujar el biplot\n",
    "plt.figure(figsize=(10, 7))\n",
    "plt.scatter(pca_result[:, 0], pca_result[:, 1], alpha=0.7, c='blue', edgecolor='k', label='Observaciones')\n",
    "for i, var in enumerate(data.columns):\n",
    "    plt.arrow(0, 0, loadings.loc[var, 'PC1'], loadings.loc[var, 'PC2'], \n",
    "              color='red', alpha=0.8, head_width=0.05)\n",
    "    plt.text(loadings.loc[var, 'PC1'] * 1.15, loadings.loc[var, 'PC2'] * 1.15, var, \n",
    "             color='green', ha='center', va='center', fontsize=9)\n",
    "\n",
    "plt.xlabel('PC1')\n",
    "plt.ylabel('PC2')\n",
    "plt.axhline(0, color='black', linewidth=0.8, linestyle='--')\n",
    "plt.axvline(0, color='black', linewidth=0.8, linestyle='--')\n",
    "plt.title('Biplot de Componentes Principales')\n",
    "plt.grid()\n",
    "plt.legend()\n",
    "plt.show()\n",
    "\n",
    "# Mostrar resultados clave\n",
    "print(\"Cargas de las variables en las componentes principales:\")\n",
    "print(loadings)\n",
    "\n",
    "# Determinar:\n",
    "# 1. Carga de 'Age' en PC1\n",
    "print(\"\\nCarga de 'Age' en PC1:\", round(loadings.loc['Age', 'PC1'], 6))\n",
    "\n",
    "# 2. Variable con mayor proyección en PC2\n",
    "max_projection = loadings['PC2'].abs().idxmax()\n",
    "print(\"Variable con mayor proyección en PC2:\", max_projection)\n",
    "print(\"La respuesta correcta es la a: Gender y carga de Age en PC1 es 0.662767 y en nuestro caso negativo\")\n"
   ]
  }
 ],
 "metadata": {
  "kernelspec": {
   "display_name": "Python 3",
   "language": "python",
   "name": "python3"
  },
  "language_info": {
   "codemirror_mode": {
    "name": "ipython",
    "version": 3
   },
   "file_extension": ".py",
   "mimetype": "text/x-python",
   "name": "python",
   "nbconvert_exporter": "python",
   "pygments_lexer": "ipython3",
   "version": "3.11.9"
  }
 },
 "nbformat": 4,
 "nbformat_minor": 2
}
